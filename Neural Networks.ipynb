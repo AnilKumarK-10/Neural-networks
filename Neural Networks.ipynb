{
 "cells": [
  {
   "cell_type": "markdown",
   "metadata": {},
   "source": [
    "#  Predicting Boston Housing Prices"
   ]
  },
  {
   "cell_type": "markdown",
   "metadata": {},
   "source": [
    "## Import required packages."
   ]
  },
  {
   "cell_type": "code",
   "execution_count": 1,
   "metadata": {},
   "outputs": [],
   "source": [
    "from pathlib import Path\n",
    "\n",
    "import pandas as pd\n",
    "import numpy as np\n",
    "\n",
    "from sklearn.model_selection import train_test_split\n",
    "from sklearn.model_selection import cross_val_score, GridSearchCV\n",
    "from sklearn.neural_network import MLPRegressor \n",
    "from sklearn.preprocessing import StandardScaler\n",
    "\n",
    "from dmba import regressionSummary\n",
    "\n",
    "%matplotlib inline\n",
    "import matplotlib.pylab as plt"
   ]
  },
  {
   "cell_type": "markdown",
   "metadata": {},
   "source": [
    "## Upload data set for analysis. Explore, clean, and pre-process data. "
   ]
  },
  {
   "cell_type": "code",
   "execution_count": 2,
   "metadata": {
    "scrolled": false
   },
   "outputs": [
    {
     "name": "stdout",
     "output_type": "stream",
     "text": [
      "BostonHousing Dimensions: (506, 14)\n"
     ]
    }
   ],
   "source": [
    "# Create data frame from the original data set.  \n",
    "boston_df = pd.read_csv('BostonHousing.csv')\n",
    "\n",
    "# Determine dimensions of dataframe. \n",
    "print('BostonHousing Dimensions:', boston_df.shape)"
   ]
  },
  {
   "cell_type": "code",
   "execution_count": 3,
   "metadata": {},
   "outputs": [
    {
     "name": "stdout",
     "output_type": "stream",
     "text": [
      "\n",
      "Original Column Titles\n"
     ]
    },
    {
     "data": {
      "text/plain": [
       "Index(['CRIME', 'ZONE', 'INDUST', 'CHAR RIV', 'NIT OXIDE', 'ROOMS', 'AGE',\n",
       "       'DISTANCE', 'RADIAL', 'TAX', 'ST RATIO', 'LOW STAT', 'MVALUE',\n",
       "       'C MVALUE'],\n",
       "      dtype='object')"
      ]
     },
     "execution_count": 3,
     "metadata": {},
     "output_type": "execute_result"
    }
   ],
   "source": [
    "# Display the column names.\n",
    "print('')\n",
    "print('Original Column Titles')\n",
    "boston_df.columns"
   ]
  },
  {
   "cell_type": "code",
   "execution_count": 4,
   "metadata": {},
   "outputs": [
    {
     "name": "stdout",
     "output_type": "stream",
     "text": [
      "Converted One-Word Titles\n"
     ]
    },
    {
     "data": {
      "text/plain": [
       "Index(['CRIME', 'ZONE', 'INDUST', 'CHAR_RIV', 'NIT_OXIDE', 'ROOMS', 'AGE',\n",
       "       'DISTANCE', 'RADIAL', 'TAX', 'ST_RATIO', 'LOW_STAT', 'MVALUE',\n",
       "       'C_MVALUE'],\n",
       "      dtype='object')"
      ]
     },
     "execution_count": 4,
     "metadata": {},
     "output_type": "execute_result"
    }
   ],
   "source": [
    "# Make column titles (variable names) as one word and \n",
    "# without blank. \n",
    "boston_df.columns = [s.strip().replace(' ', '_') for s in boston_df.columns]\n",
    "print('Converted One-Word Titles')\n",
    "boston_df.columns"
   ]
  },
  {
   "cell_type": "code",
   "execution_count": 5,
   "metadata": {
    "scrolled": false
   },
   "outputs": [
    {
     "name": "stdout",
     "output_type": "stream",
     "text": [
      "BostonHousing Data Types\n",
      "CRIME        float64\n",
      "ZONE         float64\n",
      "INDUST       float64\n",
      "CHAR_RIV      object\n",
      "NIT_OXIDE    float64\n",
      "ROOMS        float64\n",
      "AGE          float64\n",
      "DISTANCE     float64\n",
      "RADIAL         int64\n",
      "TAX            int64\n",
      "ST_RATIO     float64\n",
      "LOW_STAT     float64\n",
      "MVALUE       float64\n",
      "C_MVALUE      object\n",
      "dtype: object\n",
      "\n",
      "Converted BostonHousing Data Types\n",
      "CRIME           float64\n",
      "ZONE            float64\n",
      "INDUST          float64\n",
      "NIT_OXIDE       float64\n",
      "ROOMS           float64\n",
      "AGE             float64\n",
      "DISTANCE        float64\n",
      "RADIAL            int64\n",
      "TAX               int64\n",
      "ST_RATIO        float64\n",
      "LOW_STAT        float64\n",
      "MVALUE          float64\n",
      "CHAR_RIV_Y        uint8\n",
      "C_MVALUE_Yes      uint8\n",
      "dtype: object\n"
     ]
    }
   ],
   "source": [
    "# Display column data types in the data frame for regression analysis.\n",
    "print('BostonHousing Data Types')\n",
    "print(boston_df.dtypes)\n",
    "\n",
    "# Convert object variables  into dummy variables.\n",
    "# Use drop_first=True to drop the first dummy variable.\n",
    "boston_df = pd.get_dummies(boston_df, prefix_sep='_', \n",
    "                            drop_first=True)\n",
    "\n",
    "# Disply updated data types. \n",
    "print('')\n",
    "print('Converted BostonHousing Data Types')\n",
    "print(boston_df.dtypes)\n"
   ]
  },
  {
   "cell_type": "code",
   "execution_count": 7,
   "metadata": {},
   "outputs": [
    {
     "data": {
      "text/html": [
       "<div>\n",
       "<style scoped>\n",
       "    .dataframe tbody tr th:only-of-type {\n",
       "        vertical-align: middle;\n",
       "    }\n",
       "\n",
       "    .dataframe tbody tr th {\n",
       "        vertical-align: top;\n",
       "    }\n",
       "\n",
       "    .dataframe thead th {\n",
       "        text-align: right;\n",
       "    }\n",
       "</style>\n",
       "<table border=\"1\" class=\"dataframe\">\n",
       "  <thead>\n",
       "    <tr style=\"text-align: right;\">\n",
       "      <th></th>\n",
       "      <th>CRIME</th>\n",
       "      <th>ZONE</th>\n",
       "      <th>INDUST</th>\n",
       "      <th>NIT_OXIDE</th>\n",
       "      <th>ROOMS</th>\n",
       "      <th>AGE</th>\n",
       "      <th>DISTANCE</th>\n",
       "      <th>RADIAL</th>\n",
       "      <th>TAX</th>\n",
       "      <th>ST_RATIO</th>\n",
       "      <th>LOW_STAT</th>\n",
       "      <th>MVALUE</th>\n",
       "      <th>CHAR_RIV_Y</th>\n",
       "      <th>C_MVALUE_Yes</th>\n",
       "    </tr>\n",
       "  </thead>\n",
       "  <tbody>\n",
       "    <tr>\n",
       "      <th>0</th>\n",
       "      <td>0.00632</td>\n",
       "      <td>18.0</td>\n",
       "      <td>2.31</td>\n",
       "      <td>0.538</td>\n",
       "      <td>6.575</td>\n",
       "      <td>65.2</td>\n",
       "      <td>4.0900</td>\n",
       "      <td>1</td>\n",
       "      <td>296</td>\n",
       "      <td>15.3</td>\n",
       "      <td>4.98</td>\n",
       "      <td>24.0</td>\n",
       "      <td>0</td>\n",
       "      <td>0</td>\n",
       "    </tr>\n",
       "    <tr>\n",
       "      <th>1</th>\n",
       "      <td>0.02731</td>\n",
       "      <td>0.0</td>\n",
       "      <td>7.07</td>\n",
       "      <td>0.469</td>\n",
       "      <td>6.421</td>\n",
       "      <td>78.9</td>\n",
       "      <td>4.9671</td>\n",
       "      <td>2</td>\n",
       "      <td>242</td>\n",
       "      <td>17.8</td>\n",
       "      <td>9.14</td>\n",
       "      <td>21.6</td>\n",
       "      <td>0</td>\n",
       "      <td>0</td>\n",
       "    </tr>\n",
       "    <tr>\n",
       "      <th>2</th>\n",
       "      <td>0.02729</td>\n",
       "      <td>0.0</td>\n",
       "      <td>7.07</td>\n",
       "      <td>0.469</td>\n",
       "      <td>7.185</td>\n",
       "      <td>61.1</td>\n",
       "      <td>4.9671</td>\n",
       "      <td>2</td>\n",
       "      <td>242</td>\n",
       "      <td>17.8</td>\n",
       "      <td>4.03</td>\n",
       "      <td>34.7</td>\n",
       "      <td>0</td>\n",
       "      <td>1</td>\n",
       "    </tr>\n",
       "    <tr>\n",
       "      <th>3</th>\n",
       "      <td>0.03237</td>\n",
       "      <td>0.0</td>\n",
       "      <td>2.18</td>\n",
       "      <td>0.458</td>\n",
       "      <td>6.998</td>\n",
       "      <td>45.8</td>\n",
       "      <td>6.0622</td>\n",
       "      <td>3</td>\n",
       "      <td>222</td>\n",
       "      <td>18.7</td>\n",
       "      <td>2.94</td>\n",
       "      <td>33.4</td>\n",
       "      <td>0</td>\n",
       "      <td>1</td>\n",
       "    </tr>\n",
       "    <tr>\n",
       "      <th>4</th>\n",
       "      <td>0.06905</td>\n",
       "      <td>0.0</td>\n",
       "      <td>2.18</td>\n",
       "      <td>0.458</td>\n",
       "      <td>7.147</td>\n",
       "      <td>54.2</td>\n",
       "      <td>6.0622</td>\n",
       "      <td>3</td>\n",
       "      <td>222</td>\n",
       "      <td>18.7</td>\n",
       "      <td>5.33</td>\n",
       "      <td>36.2</td>\n",
       "      <td>0</td>\n",
       "      <td>1</td>\n",
       "    </tr>\n",
       "  </tbody>\n",
       "</table>\n",
       "</div>"
      ],
      "text/plain": [
       "     CRIME  ZONE  INDUST  NIT_OXIDE  ROOMS   AGE  DISTANCE  RADIAL  TAX  \\\n",
       "0  0.00632  18.0    2.31      0.538  6.575  65.2    4.0900       1  296   \n",
       "1  0.02731   0.0    7.07      0.469  6.421  78.9    4.9671       2  242   \n",
       "2  0.02729   0.0    7.07      0.469  7.185  61.1    4.9671       2  242   \n",
       "3  0.03237   0.0    2.18      0.458  6.998  45.8    6.0622       3  222   \n",
       "4  0.06905   0.0    2.18      0.458  7.147  54.2    6.0622       3  222   \n",
       "\n",
       "   ST_RATIO  LOW_STAT  MVALUE  CHAR_RIV_Y  C_MVALUE_Yes  \n",
       "0      15.3      4.98    24.0           0             0  \n",
       "1      17.8      9.14    21.6           0             0  \n",
       "2      17.8      4.03    34.7           0             1  \n",
       "3      18.7      2.94    33.4           0             1  \n",
       "4      18.7      5.33    36.2           0             1  "
      ]
     },
     "execution_count": 7,
     "metadata": {},
     "output_type": "execute_result"
    }
   ],
   "source": [
    "boston_df.head()"
   ]
  },
  {
   "cell_type": "markdown",
   "metadata": {},
   "source": [
    "## Neural network model for BostonHousing  data. "
   ]
  },
  {
   "cell_type": "code",
   "execution_count": 8,
   "metadata": {
    "scrolled": false
   },
   "outputs": [
    {
     "name": "stdout",
     "output_type": "stream",
     "text": [
      "Predictors for Training Partition\n",
      "       CRIME  ZONE  INDUST  NIT_OXIDE  ROOMS   AGE  DISTANCE  RADIAL  TAX  \\\n",
      "13   0.62976   0.0    8.14      0.538  5.949  61.8    4.7075       4  307   \n",
      "61   0.17171  25.0    5.13      0.453  5.966  93.4    6.8185       8  284   \n",
      "377  9.82349   0.0   18.10      0.671  6.794  98.8    1.3580      24  666   \n",
      "39   0.02763  75.0    2.95      0.428  6.595  21.8    5.4011       3  252   \n",
      "365  4.55587   0.0   18.10      0.718  3.561  87.9    1.6132      24  666   \n",
      "\n",
      "     ST_RATIO  LOW_STAT  CHAR_RIV_Y  C_MVALUE_Yes  \n",
      "13       21.0      8.26           0             0  \n",
      "61       19.7     14.44           0             0  \n",
      "377      20.2     21.24           0             0  \n",
      "39       18.3      4.32           0             1  \n",
      "365      20.2      7.12           0             0  \n",
      "\n",
      "Scaled Predictors for Training Partition\n",
      "   CRIME   ZONE  INDUST  NIT_OXIDE  ROOMS    AGE  DISTANCE  RADIAL    TAX  \\\n",
      "0 -0.366 -0.484  -0.462     -0.147 -0.440 -0.251     0.412  -0.646 -0.600   \n",
      "1 -0.420  0.580  -0.902     -0.868 -0.416  0.868     1.401  -0.191 -0.736   \n",
      "2  0.714 -0.484   0.992      0.982  0.782  1.060    -1.157   1.629  1.512   \n",
      "3 -0.436  2.708  -1.220     -1.080  0.494 -1.668     0.737  -0.760 -0.924   \n",
      "4  0.095 -0.484   0.992      1.381 -3.893  0.673    -1.037   1.629  1.512   \n",
      "\n",
      "   ST_RATIO  LOW_STAT  CHAR_RIV_Y  C_MVALUE_Yes  \n",
      "0     1.189    -0.647      -0.304        -0.452  \n",
      "1     0.582     0.203      -0.304        -0.452  \n",
      "2     0.816     1.139      -0.304        -0.452  \n",
      "3    -0.070    -1.189      -0.304         2.214  \n",
      "4     0.816    -0.804      -0.304        -0.452  \n"
     ]
    }
   ],
   "source": [
    "# Identify outcome and predictors. Create data partitioning \n",
    "# and scale the data using StandardScaler()from scikit-learn \n",
    "# libray. Display original and scaled predictors for training \n",
    "# partition. \n",
    "\n",
    "# Develop outcome. \n",
    "outcome = 'MVALUE'\n",
    "\n",
    "# Develop predictor variables. \n",
    "predictors = [s for s in boston_df.columns if s not in outcome]\n",
    "\n",
    "# Identify X and y variables for BostonHousing data set and \n",
    "# partition data using 70% of records for training and 30% \n",
    "# for validation (test_size=0.3). \n",
    "X = boston_df[predictors]\n",
    "y = boston_df[outcome]\n",
    "train_X, valid_X, train_y, valid_y = train_test_split(X, y, \n",
    "                            test_size=0.3, random_state=1)\n",
    "\n",
    "# Display the first 5 records of Toyota Corolla training \n",
    "# partition's predictors. \n",
    "print('Predictors for Training Partition')\n",
    "print(train_X.head(5))\n",
    "\n",
    "# Scale input data (predictors) for training  and validation \n",
    "# partitions using StandardScaler().\n",
    "sc_X = StandardScaler()\n",
    "train_X_sc = sc_X.fit_transform(train_X)\n",
    "valid_X_sc = sc_X.transform(valid_X)\n",
    "\n",
    "# Develop a data frame to display scaled predictors for \n",
    "# training partition. Round scaled values to 3 decimals.\n",
    "# Add coloumn titles to data frame.\n",
    "train_X_sc_df = np.round(pd.DataFrame(train_X_sc), decimals=3)                            \n",
    "train_X_sc_df.columns=['CRIME', 'ZONE', 'INDUST', 'NIT_OXIDE', \n",
    "      'ROOMS', 'AGE', 'DISTANCE', 'RADIAL', 'TAX', 'ST_RATIO', \n",
    "      'LOW_STAT',  'CHAR_RIV_Y','C_MVALUE_Yes']\n",
    "\n",
    "# Display scaled predictors for training partition.\n",
    "print()\n",
    "print('Scaled Predictors for Training Partition')\n",
    "print(train_X_sc_df.head(5))"
   ]
  },
  {
   "cell_type": "code",
   "execution_count": 12,
   "metadata": {
    "scrolled": false
   },
   "outputs": [
    {
     "name": "stdout",
     "output_type": "stream",
     "text": [
      "Final Intercepts for Boston Housing Neural Network Model\n",
      "[array([ 0.13292439, -5.12357884, -3.10562394, -0.12894016, -1.37297091,\n",
      "       -1.39127175, -1.36315706,  0.21571478,  3.79757179, -0.10013371]), array([3.09174442])]\n",
      "\n",
      "Network Weights for Boston Housing Neural Network Model\n",
      "[array([[ 0.54597464,  1.34058253,  0.02213642,  0.15030378, -2.38288775,\n",
      "        -0.20435814, -0.99299133, -0.28532504, -0.03440528,  0.2705021 ],\n",
      "       [ 0.82100873,  0.13165897,  0.40264055,  0.96120668, -2.19159579,\n",
      "        -0.0245981 , -0.27159266, -0.87856117, -0.21737456,  1.90352302],\n",
      "       [ 1.28901735,  0.85759979, -0.00391884, -0.27625905, -0.20055893,\n",
      "         0.63708174, -0.37733494, -0.32682421,  0.27764283, -1.85053288],\n",
      "       [ 1.33865853,  0.71723071, -0.35772379, -3.06606683,  2.10898016,\n",
      "         0.2086184 , -0.03642794,  1.56647258, -3.00257008,  0.95609551],\n",
      "       [ 2.64986499,  0.69712263, -0.36456842, -0.98406414,  0.29351945,\n",
      "         1.14293934, -0.60364141, -0.0251318 ,  0.04387533,  0.59728045],\n",
      "       [-1.02780534, -0.13364573, -0.85930337, -1.40931671, -0.64287093,\n",
      "        -0.22303418,  0.69256028,  1.22589146, -1.03297027, -0.7728135 ],\n",
      "       [-1.26628071, -0.38964429, -0.65647204,  0.2985506 ,  0.24481017,\n",
      "        -0.23587629, -1.94132974,  1.66443524, -0.65845232,  0.78026397],\n",
      "       [ 0.64640112, -1.40357635, -0.08817053, -0.48602464, -0.44060942,\n",
      "         0.61681922,  1.21239197, -0.947482  ,  1.10326699, -1.51155178],\n",
      "       [ 0.09472062, -2.44425727, -0.75215228,  0.77124549,  0.85256656,\n",
      "         2.10883352,  1.33556717,  1.78674968, -0.93171083,  2.18073102],\n",
      "       [ 0.24184831, -0.57490423, -0.76419388, -0.24598606, -0.22207938,\n",
      "        -0.10072443,  2.00097956,  1.03587786, -0.95968081,  1.6573884 ],\n",
      "       [-0.54376861, -2.72848637,  1.41373158, -0.17586441,  0.17096218,\n",
      "         0.38320512,  0.60227452, -1.09215334, -0.26314764, -0.34224441],\n",
      "       [-1.16108986, -0.17856323, -0.28562509, -0.42849019, -1.30162809,\n",
      "        -0.73032535, -0.93978704,  1.05131556, -0.22199054, -0.66453753],\n",
      "       [-0.84256654, -0.10031976,  2.21948329,  0.0629646 ,  0.00339746,\n",
      "        -1.79855156,  1.83151091,  3.12479076, -1.57686043, -0.01479522]]), array([[ 1.42884042],\n",
      "       [ 4.90737658],\n",
      "       [ 3.55148468],\n",
      "       [-2.4543046 ],\n",
      "       [ 1.94291225],\n",
      "       [-2.49462975],\n",
      "       [ 1.76230945],\n",
      "       [ 2.47342077],\n",
      "       [ 3.48897857],\n",
      "       [ 1.85595154]])]\n"
     ]
    }
   ],
   "source": [
    "# Use MLPRegressor() function to train neural network model.\n",
    "# Apply: \n",
    "# (a) default input layer with the number of nodes equal \n",
    "#     to number of predictor variables (13); \n",
    "# (b) default single hidden layer with 10 nodes; \n",
    "# (c) default output layer with one outcome variable (Price);\n",
    "# (d) optimization function solver = 'lbfgs', \n",
    "#     which is applied for small data sets for better \n",
    "#     performance and fast convergence. For large data sets, \n",
    "#     apply default solver = 'adam' optimization function;\n",
    "# (e) model is fit with scaled predictors and regular outcome\n",
    "#     in training partition.\n",
    "boston_nn = MLPRegressor(hidden_layer_sizes=(10), \n",
    "                solver='lbfgs', max_iter=10000, random_state=1)\n",
    "boston_nn.fit(train_X_sc, train_y)\n",
    "\n",
    "# Display network structure with the final values of \n",
    "# intercepts (Theta) and weights (W).\n",
    "print('Final Intercepts for Boston Housing Neural Network Model')\n",
    "print(boston_nn.intercepts_)\n",
    "\n",
    "print()\n",
    "print('Network Weights for Boston Housing Neural Network Model')\n",
    "print(boston_nn.coefs_)"
   ]
  },
  {
   "cell_type": "code",
   "execution_count": 13,
   "metadata": {
    "scrolled": true
   },
   "outputs": [
    {
     "name": "stdout",
     "output_type": "stream",
     "text": [
      "Predictions for Toyota Price for Validation Partition\n",
      "     Actual  Prediction  Residual\n",
      "307    28.2       29.89     -1.69\n",
      "343    23.9       25.55     -1.65\n",
      "47     16.6       20.72     -4.12\n",
      "67     22.0       20.64      1.36\n",
      "362    20.8       24.44     -3.64\n"
     ]
    }
   ],
   "source": [
    "# Make 'MVALUE' predictions for validation set using  \n",
    "# Boston Housing neural network model. \n",
    "\n",
    "# Use boston_nn model to predict 'MVALUE' outcome\n",
    "# for validation set.\n",
    "mvalue_pred = np.round(boston_nn.predict(valid_X_sc), decimals=2)\n",
    "\n",
    "# Create data frame to display prediction results for\n",
    "# validation set. \n",
    "mvalue_pred_result = pd.DataFrame({'Actual': valid_y, \n",
    "                'Prediction': mvalue_pred, 'Residual': valid_y-mvalue_pred})\n",
    "\n",
    "print('Predictions for Toyota Price for Validation Partition')\n",
    "print(mvalue_pred_result.head())"
   ]
  },
  {
   "cell_type": "code",
   "execution_count": 14,
   "metadata": {
    "scrolled": false
   },
   "outputs": [
    {
     "name": "stdout",
     "output_type": "stream",
     "text": [
      "Accuracy Measures for Training Partition for Neural Network\n",
      "\n",
      "Regression statistics\n",
      "\n",
      "                      Mean Error (ME) : -0.0030\n",
      "       Root Mean Squared Error (RMSE) : 1.6154\n",
      "            Mean Absolute Error (MAE) : 1.1592\n",
      "          Mean Percentage Error (MPE) : -0.9159\n",
      "Mean Absolute Percentage Error (MAPE) : 6.2577\n",
      "\n",
      "Accuracy Measures for Validation Partition for Neural Network\n",
      "\n",
      "Regression statistics\n",
      "\n",
      "                      Mean Error (ME) : -0.6335\n",
      "       Root Mean Squared Error (RMSE) : 3.9271\n",
      "            Mean Absolute Error (MAE) : 2.7627\n",
      "          Mean Percentage Error (MPE) : -5.8985\n",
      "Mean Absolute Percentage Error (MAPE) : 14.6733\n"
     ]
    }
   ],
   "source": [
    "# Neural network model accuracy measures for training and\n",
    "# validation partitions. \n",
    "\n",
    "# Identify and display neural network model accuracy measures \n",
    "# for training partition.\n",
    "print('Accuracy Measures for Training Partition for Neural Network')\n",
    "regressionSummary(train_y, boston_nn.predict(train_X_sc))\n",
    "\n",
    "# Identify and display neural network accuracy measures \n",
    "# for validation partition.\n",
    "print()\n",
    "print('Accuracy Measures for Validation Partition for Neural Network')\n",
    "regressionSummary(valid_y, boston_nn.predict(valid_X_sc))"
   ]
  },
  {
   "cell_type": "markdown",
   "metadata": {},
   "source": [
    "## Grid search for Boston Housing neural network model."
   ]
  },
  {
   "cell_type": "code",
   "execution_count": 15,
   "metadata": {},
   "outputs": [
    {
     "name": "stdout",
     "output_type": "stream",
     "text": [
      "Best score:0.8877\n",
      "Best parameter:  {'hidden_layer_sizes': 2}\n"
     ]
    }
   ],
   "source": [
    "# Identify grid search parameters. \n",
    "param_grid = {\n",
    "    'hidden_layer_sizes': list(range(2, 20)), \n",
    "}\n",
    "\n",
    "# Utilize GridSearchCV() to identify the best number \n",
    "# of nodes in the hidden layer. \n",
    "gridSearch = GridSearchCV(MLPRegressor(solver='lbfgs', max_iter=10000, random_state=1), \n",
    "                          param_grid, cv=5, n_jobs=-1, return_train_score=True)\n",
    "gridSearch.fit(train_X_sc, train_y)\n",
    "\n",
    "# Display the best score and best parament value.\n",
    "print(f'Best score:{gridSearch.best_score_:.4f}')\n",
    "print('Best parameter: ', gridSearch.best_params_)\n"
   ]
  },
  {
   "cell_type": "code",
   "execution_count": 16,
   "metadata": {},
   "outputs": [
    {
     "name": "stdout",
     "output_type": "stream",
     "text": [
      "Final Intercepts for Boston Housing Neural Network Model\n",
      "[array([-5.77798235,  9.23251124]), array([6.42319947])]\n",
      "\n",
      "Network Weights for Boston Housing Neural Network Model\n",
      "[array([[-0.3032743 , -1.12974977],\n",
      "       [-0.83116756,  0.01885639],\n",
      "       [ 3.41885652, -0.19609333],\n",
      "       [-0.87643445, -0.34832306],\n",
      "       [-1.38687676,  2.44231364],\n",
      "       [ 0.03476532, -1.00136674],\n",
      "       [-0.27505135, -1.03085599],\n",
      "       [ 3.41072744, -0.42693217],\n",
      "       [ 1.71442508, -1.53029944],\n",
      "       [-1.30596363, -0.71167013],\n",
      "       [-1.27352383, -0.47077159],\n",
      "       [ 0.23975211,  0.12005179],\n",
      "       [ 3.21479073,  1.48260895]]), array([[2.27967747],\n",
      "       [1.50200358]])]\n"
     ]
    }
   ],
   "source": [
    "# Use MLPRegressor() function to train improved neural network model\n",
    "# based on grid search. \n",
    "\n",
    "# Apply: \n",
    "# (a) default input layer with the number of nodes equal \n",
    "#     to number of predictor variables (13); \n",
    "# (b) default single hidden layer with 2 nodes; \n",
    "# (c) default output layer with one outcome variable (Price);\n",
    "# (d) optimization function solver = 'lbfgs', \n",
    "#     which is applied for small data sets for better \n",
    "#     performance and fast convergence. For large data sets, \n",
    "#     apply default solver = 'adam' optimization function;\n",
    "# (e) model is fit with scaled predictors and regular outcome\n",
    "#     in training partition.\n",
    "boston_nn_imp = MLPRegressor(hidden_layer_sizes=(2), \n",
    "                solver='lbfgs', max_iter=10000, random_state=1)\n",
    "boston_nn_imp.fit(train_X_sc, train_y)\n",
    "\n",
    "# Display network structure with the final values of \n",
    "# intercepts (Theta) and weights (W).\n",
    "print('Final Intercepts for Boston Housing Neural Network Model')\n",
    "print(boston_nn_imp.intercepts_)\n",
    "\n",
    "print()\n",
    "print('Network Weights for Boston Housing Neural Network Model')\n",
    "print(boston_nn_imp.coefs_)\n"
   ]
  },
  {
   "cell_type": "code",
   "execution_count": 13,
   "metadata": {
    "scrolled": true
   },
   "outputs": [
    {
     "name": "stdout",
     "output_type": "stream",
     "text": [
      "Accuracy Measures for Training Partition for Improved Neural Network\n",
      "\n",
      "Regression statistics\n",
      "\n",
      "                      Mean Error (ME) : -0.0011\n",
      "       Root Mean Squared Error (RMSE) : 2.6988\n",
      "            Mean Absolute Error (MAE) : 2.0685\n",
      "          Mean Percentage Error (MPE) : -1.8598\n",
      "Mean Absolute Percentage Error (MAPE) : 10.6435\n",
      "\n",
      "Accuracy Measures for Validation Partition for Improved Neural Network\n",
      "\n",
      "Regression statistics\n",
      "\n",
      "                      Mean Error (ME) : 0.1360\n",
      "       Root Mean Squared Error (RMSE) : 3.0161\n",
      "            Mean Absolute Error (MAE) : 2.2839\n",
      "          Mean Percentage Error (MPE) : -2.7418\n",
      "Mean Absolute Percentage Error (MAPE) : 12.0915\n"
     ]
    }
   ],
   "source": [
    "# Neural network model accuracy measures for training and\n",
    "# validation partitions of improved neural network. \n",
    "\n",
    "# Identify and display neural network model accuracy measures \n",
    "# for training partition.\n",
    "print('Accuracy Measures for Training Partition for Improved Neural Network')\n",
    "regressionSummary(train_y, boston_nn_imp.predict(train_X_sc))\n",
    "\n",
    "# Identify and display neural network accuracy measures \n",
    "# for validation partition.\n",
    "print()\n",
    "print('Accuracy Measures for Validation Partition for Improved Neural Network')\n",
    "regressionSummary(valid_y, boston_nn_imp.predict(valid_X_sc))"
   ]
  },
  {
   "cell_type": "code",
   "execution_count": null,
   "metadata": {},
   "outputs": [],
   "source": []
  }
 ],
 "metadata": {
  "kernelspec": {
   "display_name": "Python 3 (ipykernel)",
   "language": "python",
   "name": "python3"
  },
  "language_info": {
   "codemirror_mode": {
    "name": "ipython",
    "version": 3
   },
   "file_extension": ".py",
   "mimetype": "text/x-python",
   "name": "python",
   "nbconvert_exporter": "python",
   "pygments_lexer": "ipython3",
   "version": "3.11.4"
  }
 },
 "nbformat": 4,
 "nbformat_minor": 2
}
